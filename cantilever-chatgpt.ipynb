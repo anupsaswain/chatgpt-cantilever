{
 "cells": [
  {
   "attachments": {},
   "cell_type": "markdown",
   "metadata": {},
   "source": [
    "## Numerical analysis of Cantilever: ChatGPT edition\n",
    "\n",
    "### Author: Anupsa Swain, using ChatGPT"
   ]
  },
  {
   "attachments": {},
   "cell_type": "markdown",
   "metadata": {},
   "source": [
    "#### _Prompt #1: write a python code for constructing a cantilever bar under weight at the end_"
   ]
  },
  {
   "cell_type": "code",
   "execution_count": 1,
   "metadata": {},
   "outputs": [
    {
     "data": {
      "image/png": "[encoded data removed]",
      "text/plain": [
       "<Figure size 432x288 with 1 Axes>"
      ]
     },
     "metadata": {
      "needs_background": "light"
     },
     "output_type": "display_data"
    }
   ],
   "source": [
    "# code generated:\n",
    "\n",
    "import matplotlib.pyplot as plt\n",
    "import numpy as np\n",
    "\n",
    "# Define bar properties\n",
    "L = 10.0  # Length of bar in meters\n",
    "A = 0.1  # Cross-sectional area in square meters\n",
    "E = 2e11  # Young's modulus in Pascals\n",
    "\n",
    "# Define weight and position\n",
    "W = 1000.0  # Weight in Newtons\n",
    "x_w = L  # Position of weight in meters\n",
    "\n",
    "# Define number of elements\n",
    "n = 100\n",
    "\n",
    "# Define element length\n",
    "dx = L / n\n",
    "\n",
    "# Define element stiffness\n",
    "k = E * A / dx\n",
    "\n",
    "# Initialize arrays\n",
    "u = np.zeros(n+1)\n",
    "f = np.zeros(n+1)\n",
    "\n",
    "# Set boundary condition\n",
    "u[0] = 0.0\n",
    "\n",
    "# Apply load at the end of the bar\n",
    "f[-1] = W\n",
    "\n",
    "# Construct stiffness matrix and load vector\n",
    "K = np.zeros((n+1, n+1))\n",
    "F = np.zeros(n+1)\n",
    "\n",
    "for i in range(n):\n",
    "    K[i,i] += k\n",
    "    K[i+1,i+1] += k\n",
    "    K[i,i+1] += -k\n",
    "    K[i+1,i] += -k\n",
    "    F[i] += f[i]\n",
    "    F[i+1] += f[i+1]\n",
    "\n",
    "# Solve system of equations\n",
    "u = np.linalg.solve(K, F)\n",
    "\n",
    "# Plot deflection\n",
    "x = np.linspace(0, L, n+1)\n",
    "plt.plot(x, u*1000)\n",
    "plt.xlabel('Position along bar (m)')\n",
    "plt.ylabel('Deflection (m)')\n",
    "plt.title('Deflection of cantilever bar with weight at the end')\n",
    "plt.show()\n"
   ]
  },
  {
   "attachments": {},
   "cell_type": "markdown",
   "metadata": {},
   "source": [
    "This doesn't do much. So next, I asked ChatGPT to define a cantilever which became fun when it defined a class for it. "
   ]
  },
  {
   "attachments": {},
   "cell_type": "markdown",
   "metadata": {},
   "source": [
    "#### _Prompt #2: define a cantilever in python_"
   ]
  },
  {
   "attachments": {},
   "cell_type": "markdown",
   "metadata": {},
   "source": [
    "**ChatGPT**: In engineering and physics, a cantilever is a structure that is supported at one end and carries a load at the other end. In Python, we can define a cantilever using its properties such as its length, cross-sectional area, and Young's modulus. Here's an example code to define a cantilever in Python:"
   ]
  },
  {
   "cell_type": "code",
   "execution_count": 6,
   "metadata": {},
   "outputs": [],
   "source": [
    "class Cantilever:\n",
    "    def __init__(self, length, area, modulus):\n",
    "        self.length = length  # Length of the cantilever\n",
    "        self.area = area  # Cross-sectional area of the cantilever\n",
    "        self.modulus = modulus  # Young's modulus of the cantilever\n",
    "\n",
    "    def __str__(self):\n",
    "        return f\"Cantilever with length {self.length} m, area {self.area} m^2, and modulus {self.modulus} Pa\"\n",
    "\n",
    "    def deflection(self, load):\n",
    "        # Calculate deflection at the free end of the cantilever under a given load\n",
    "        moment_of_inertia = self.area * (self.length ** 3) / 12\n",
    "        deflection = load * (self.length ** 3) / (3 * self.modulus * moment_of_inertia)\n",
    "        return deflection"
   ]
  },
  {
   "attachments": {},
   "cell_type": "markdown",
   "metadata": {},
   "source": [
    "**Still ChatGPT (hereon referred to as B, B for Bot)**: In this code, we define a Cantilever class that takes in the length, area, and modulus of the cantilever as arguments. We also define a deflection method that calculates the deflection at the free end of the cantilever under a given load. The method uses the formula for the deflection of a cantilever beam under a point load, which is based on the moment of inertia of the cross-section and the Young's modulus of the material. The __str__ method is used to print out the properties of the cantilever object.\n",
    "\n",
    "We can create an instance of the Cantilever class and use the deflection method to calculate the deflection at the free end of the cantilever under a given load:"
   ]
  },
  {
   "cell_type": "code",
   "execution_count": 7,
   "metadata": {},
   "outputs": [
    {
     "name": "stdout",
     "output_type": "stream",
     "text": [
      "The deflection of the cantilever under a load of 1000 N is 2e-07 m\n"
     ]
    }
   ],
   "source": [
    "# Create a cantilever with length 5 m, area 0.1 m^2, and modulus 2e11 Pa\n",
    "cantilever = Cantilever(5, 0.1, 2e11)\n",
    "\n",
    "# Calculate deflection under a load of 1000 N\n",
    "load = 1000\n",
    "deflection = cantilever.deflection(load)\n",
    "print(f\"The deflection of the cantilever under a load of {load} N is {deflection} m\")\n"
   ]
  },
  {
   "attachments": {},
   "cell_type": "markdown",
   "metadata": {},
   "source": [
    "**B**: This would output:\n",
    "\n",
    "\"The deflection of the cantilever under a load of 1000 N is 0.0005208333333333333 m\"\n",
    "\n",
    "This means that the free end of the cantilever would deflect by approximately 0.5 mm under a load of 1000 N.\n"
   ]
  },
  {
   "attachments": {},
   "cell_type": "markdown",
   "metadata": {},
   "source": [
    "**A (for Anupsa)**: Dimensionally, 0.5 mm feels too less for a deflection to be visible. We need to magnify it or add more weight.\n",
    "\n",
    "In other concerns, we can ask ChatGPT to add more attributes to the Class. An obvious one is deflection of all points. And a function that plots it."
   ]
  },
  {
   "attachments": {},
   "cell_type": "markdown",
   "metadata": {},
   "source": [
    "#### _Prompt #3: can you add a deflections attribute to the cantilever class_"
   ]
  },
  {
   "attachments": {},
   "cell_type": "markdown",
   "metadata": {},
   "source": [
    "**B**: Sure! We can add a deflections attribute to the Cantilever class to store the deflections at different points along the cantilever. Here's an updated version of the Cantilever class:"
   ]
  },
  {
   "cell_type": "code",
   "execution_count": 1,
   "metadata": {},
   "outputs": [],
   "source": [
    "class Cantilever:\n",
    "    def __init__(self, length, area, modulus):\n",
    "        self.length = length  # Length of the cantilever\n",
    "        self.area = area  # Cross-sectional area of the cantilever\n",
    "        self.modulus = modulus  # Young's modulus of the cantilever\n",
    "        self.deflections = None  # Initialize deflections array to None\n",
    "\n",
    "    def __str__(self):\n",
    "        return f\"Cantilever with length {self.length} m, area {self.area} m^2, and modulus {self.modulus} Pa\"\n",
    "\n",
    "    def calculate_deflections(self, loads):\n",
    "        # Calculate deflections at different points along the cantilever under a given set of loads\n",
    "        moment_of_inertia = self.area * (self.length ** 3) / 12\n",
    "        self.deflections = []\n",
    "        for load in loads:\n",
    "            deflection = load * (self.length ** 3) / (3 * self.modulus * moment_of_inertia)\n",
    "            self.deflections.append(deflection)\n"
   ]
  },
  {
   "attachments": {},
   "cell_type": "markdown",
   "metadata": {},
   "source": [
    "In this updated code, we add a deflections attribute to the Cantilever class, which is initialized to None when the object is created. We also add a new method called calculate_deflections that takes in an array of loads and calculates the deflections at different points along the cantilever. The method uses the same formula for the deflection of a cantilever beam as before, but iterates over the array of loads and appends the deflection to the deflections attribute.\n",
    "\n",
    "We can create an instance of the Cantilever class and use the calculate_deflections method to calculate the deflections at different points along the cantilever under a set of loads:"
   ]
  },
  {
   "cell_type": "code",
   "execution_count": 2,
   "metadata": {},
   "outputs": [
    {
     "name": "stdout",
     "output_type": "stream",
     "text": [
      "The deflection of the cantilever at position 1 is 1e-07 m\n",
      "The deflection of the cantilever at position 2 is 2e-07 m\n",
      "The deflection of the cantilever at position 3 is 3e-07 m\n",
      "The deflection of the cantilever at position 4 is 4e-07 m\n"
     ]
    }
   ],
   "source": [
    "# Create a cantilever with length 5 m, area 0.1 m^2, and modulus 2e11 Pa\n",
    "cantilever = Cantilever(5, 0.1, 2e11)\n",
    "\n",
    "# Calculate deflections at different points along the cantilever under a set of loads\n",
    "loads = [500, 1000, 1500, 2000]\n",
    "cantilever.calculate_deflections(loads)\n",
    "\n",
    "# Print the deflections\n",
    "for i, deflection in enumerate(cantilever.deflections):\n",
    "    print(f\"The deflection of the cantilever at position {i+1} is {deflection} m\")\n"
   ]
  },
  {
   "attachments": {},
   "cell_type": "markdown",
   "metadata": {},
   "source": [
    "#### *Prompt #4: plot a 1000 times magnified deflected cantilever*"
   ]
  },
  {
   "attachments": {},
   "cell_type": "markdown",
   "metadata": {},
   "source": [
    "**B**: Sure! We can use the matplotlib library to plot a deflected cantilever. Here's an updated version of the Cantilever class that includes a method for plotting the deflected cantilever:"
   ]
  },
  {
   "cell_type": "code",
   "execution_count": 3,
   "metadata": {},
   "outputs": [],
   "source": [
    "import matplotlib.pyplot as plt\n",
    "\n",
    "class Cantilever:\n",
    "    def __init__(self, length, area, modulus):\n",
    "        self.length = length  # Length of the cantilever\n",
    "        self.area = area  # Cross-sectional area of the cantilever\n",
    "        self.modulus = modulus  # Young's modulus of the cantilever\n",
    "        self.deflections = None  # Initialize deflections array to None\n",
    "\n",
    "    def __str__(self):\n",
    "        return f\"Cantilever with length {self.length} m, area {self.area} m^2, and modulus {self.modulus} Pa\"\n",
    "\n",
    "    def calculate_deflections(self, loads):\n",
    "        # Calculate deflections at different points along the cantilever under a given set of loads\n",
    "        moment_of_inertia = self.area * (self.length ** 3) / 12\n",
    "        self.deflections = []\n",
    "        for load in loads:\n",
    "            deflection = load * (self.length ** 3) / (3 * self.modulus * moment_of_inertia)\n",
    "            self.deflections.append(deflection)\n",
    "\n",
    "    def plot_deflected_cantilever(self, magnification=1000):\n",
    "        if self.deflections is None:\n",
    "            print(\"No deflections calculated yet!\")\n",
    "            return\n",
    "\n",
    "        x_values = [i * self.length / (len(self.deflections) - 1) for i in range(len(self.deflections))]\n",
    "        y_values = [deflection * magnification for deflection in self.deflections]\n",
    "\n",
    "        fig, ax = plt.subplots()\n",
    "        ax.plot(x_values, y_values)\n",
    "        ax.set_xlabel(\"Position along cantilever (m)\")\n",
    "        ax.set_ylabel(f\"Deflection x{magnification}\")\n",
    "        ax.set_title(\"Deflected cantilever\")\n",
    "        plt.show()\n"
   ]
  },
  {
   "attachments": {},
   "cell_type": "markdown",
   "metadata": {},
   "source": [
    "In this updated code, we add a new method called plot_deflected_cantilever that takes in an optional argument magnification (default 1000) which specifies the magnification of the deflection in the plot. The method first checks if deflections have been calculated before proceeding. It then calculates the x and y values needed for plotting the deflected cantilever using the deflections attribute and the length of the cantilever. The method then creates a new figure and axis using plt.subplots(), plots the deflected cantilever using ax.plot(), and sets the axis labels and title using ax.set_xlabel(), ax.set_ylabel(), and ax.set_title(), respectively.\n",
    "\n",
    "We can create an instance of the Cantilever class, calculate the deflections at different points along the cantilever under a set of loads, and plot the deflected cantilever:"
   ]
  },
  {
   "cell_type": "code",
   "execution_count": 4,
   "metadata": {},
   "outputs": [
    {
     "data": {
      "image/png": "[encoded data removed]",
      "text/plain": [
       "<Figure size 432x288 with 1 Axes>"
      ]
     },
     "metadata": {
      "needs_background": "light"
     },
     "output_type": "display_data"
    }
   ],
   "source": [
    "# Create a cantilever with length 5 m, area 0.1 m^2, and modulus 2e11 Pa\n",
    "cantilever = Cantilever(5, 0.1, 2e11)\n",
    "\n",
    "# Calculate deflections at different points along the cantilever under a set of loads\n",
    "loads = [500, 1000, 1500, 2000]\n",
    "cantilever.calculate_deflections(loads)\n",
    "\n",
    "# Plot the deflected cantilever\n",
    "cantilever.plot_deflected_cantilever(magnification=1000)\n"
   ]
  },
  {
   "attachments": {},
   "cell_type": "markdown",
   "metadata": {},
   "source": [
    "**A**: This doesn't seem right. Cantilever needs to look bent. Maybe the magnification went a bit far. This time, let's specify some of our own parameters."
   ]
  },
  {
   "cell_type": "code",
   "execution_count": 5,
   "metadata": {},
   "outputs": [
    {
     "data": {
      "image/png": "[encoded data removed]",
      "text/plain": [
       "<Figure size 432x288 with 1 Axes>"
      ]
     },
     "metadata": {
      "needs_background": "light"
     },
     "output_type": "display_data"
    }
   ],
   "source": [
    "# modified:\n",
    "\n",
    "# Create a cantilever with length 5 m, area 0.1 m^2, and modulus 2e11 Pa\n",
    "cantilever = Cantilever(50, 0.1, 2e11)\n",
    "\n",
    "# Calculate deflections at different points along the cantilever under a set of loads\n",
    "loads = [500, 1000, 1500, 2000]\n",
    "cantilever.calculate_deflections(loads)\n",
    "\n",
    "# Plot the deflected cantilever\n",
    "cantilever.plot_deflected_cantilever(magnification=100)"
   ]
  },
  {
   "attachments": {},
   "cell_type": "markdown",
   "metadata": {},
   "source": [
    "**A**: Conclusion: ChatGPT understood what I needed in the deflections attribute, but wrote the code incorrectly. I wanted a deflections array of different points along the cantilever. Instead, it plotted for different load strengths at the end. This will obviously be a linear curve (rather than the expected cubic) because it is being drawn against Load (P) and not distance (x)."
   ]
  },
  {
   "attachments": {},
   "cell_type": "markdown",
   "metadata": {},
   "source": [
    "Analytically, we have the solution:\n",
    "\n",
    "$$\n",
    "w_o(x) = -\\frac{Px^3}{6EI_y} + \\frac{PLx^2}{2EI_y}\n",
    "$$\n",
    "\n",
    "Where, \\\n",
    "$P$ = Tip load \\\n",
    "$x$ = distance from joint \\\n",
    "$E$ = Young's Modulus \\\n",
    "$I_y$ = Moment of Inertia about y axis \\\n",
    "$L$ = Length of rod\n"
   ]
  },
  {
   "attachments": {},
   "cell_type": "markdown",
   "metadata": {},
   "source": [
    "#### Blasphemy"
   ]
  },
  {
   "attachments": {},
   "cell_type": "markdown",
   "metadata": {},
   "source": [
    "**A**: I re-read the code chatGPT wrote (which, I should've paid more attention to earlier). And the code it wrote for deflections (as the title of the section suggests), is blasphemous. Why? Because it didn't use FDM like I wished it did. It used its enormous pool of knowledge to use the analytically derived solution directly in its deflection definition in the Cantilever class. "
   ]
  },
  {
   "attachments": {},
   "cell_type": "markdown",
   "metadata": {},
   "source": [
    "We need it to do a better job with the FDM. A more specific prompt perhaps. On a new chat."
   ]
  },
  {
   "attachments": {},
   "cell_type": "markdown",
   "metadata": {},
   "source": [
    "#### *Prompt #5: can you do finite differential analysis*"
   ]
  },
  {
   "attachments": {},
   "cell_type": "markdown",
   "metadata": {},
   "source": [
    "**A**: The reason I asked ChatGPT this question was because I had lost trust in it. I needed to find out if this poet knew what it was talking about."
   ]
  },
  {
   "attachments": {},
   "cell_type": "markdown",
   "metadata": {},
   "source": [
    "**B**: * spits out an exemplar code *"
   ]
  },
  {
   "attachments": {},
   "cell_type": "markdown",
   "metadata": {},
   "source": [
    "**A**: ok, we can proceed with the cantilever part of it all. (Yes I ran the code and tested it. It works. I have omitted it here due to its irrelevance to the problem statement.)"
   ]
  },
  {
   "attachments": {},
   "cell_type": "markdown",
   "metadata": {},
   "source": [
    "#### *Prompt #6: apply finite differential analysis to solve for a cantilever with tip load*"
   ]
  },
  {
   "cell_type": "code",
   "execution_count": 9,
   "metadata": {},
   "outputs": [
    {
     "data": {
      "image/png": "[encoded data removed]",
      "text/plain": [
       "<Figure size 432x288 with 1 Axes>"
      ]
     },
     "metadata": {
      "needs_background": "light"
     },
     "output_type": "display_data"
    }
   ],
   "source": [
    "# resultant code: \n",
    "\n",
    "import numpy as np\n",
    "import matplotlib.pyplot as plt\n",
    "\n",
    "# Define the properties of the cantilever\n",
    "L = 1.0     # Length of cantilever\n",
    "E = 1.0e7   # Young's modulus\n",
    "I = 1.0e-4  # Moment of inertia\n",
    "w = 100.0   # Tip load\n",
    "\n",
    "# A's added definition of analytical solution for comparison\n",
    "def cantilytical(x):\n",
    "    return w*(x**3)/(6*E*I) - w*L*x*x/(2*E*I)\n",
    "\n",
    "# Define the boundary conditions\n",
    "x0 = 0.0\n",
    "y0 = 0.0\n",
    "dydx0 = 0.0\n",
    "\n",
    "# Define the domain of the solution\n",
    "a = 0.0\n",
    "b = L\n",
    "n = 101   # Number of grid points\n",
    "h = (b - a) / (n - 1)   # Grid spacing\n",
    "\n",
    "# Initialize the solution arrays\n",
    "x = np.linspace(a, b, n)\n",
    "y = np.zeros(n)\n",
    "dydx = np.zeros(n)\n",
    "\n",
    "# Apply finite difference approximation to solve the differential equation\n",
    "for i in range(1, n):\n",
    "    y[i] = y[i-1] + h*dydx[i-1]\n",
    "    dydx[i] = dydx[i-1] + h*(-w/(E*I))\n",
    "    \n",
    "# Apply boundary conditions\n",
    "y[0] = y0\n",
    "dydx[0] = dydx0\n",
    "\n",
    "# Plot the solution\n",
    "plt.plot(x, y*1000, 'r-', lw=2, label='FDM')\n",
    "plt.plot(x, cantilytical(x)*1000, 'b--', lw=4, label='exact')\n",
    "plt.xlabel('x (m)')\n",
    "plt.ylabel('y (mm)')\n",
    "plt.legend()\n",
    "plt.show()\n",
    "\n",
    "# yay!! :D"
   ]
  },
  {
   "attachments": {},
   "cell_type": "markdown",
   "metadata": {},
   "source": [
    "**A**: As is evident, this isn't close to the exact solution of the cantilever (arrived at analytically) since it seems to have been solved using first order approximations."
   ]
  },
  {
   "attachments": {},
   "cell_type": "markdown",
   "metadata": {},
   "source": [
    "Moving it up a notch, is what happens in the next three steps.\n",
    "\n",
    "It is to note that in the following three methods, ChatGPT messed up the internal limits to be used in code. These corrections have been accounted for, debugged manually by the author. "
   ]
  },
  {
   "attachments": {},
   "cell_type": "markdown",
   "metadata": {},
   "source": [
    "#### *Prompt #7: use a more advanced technique*"
   ]
  },
  {
   "attachments": {},
   "cell_type": "markdown",
   "metadata": {},
   "source": [
    "##### Method used: Thomas method"
   ]
  },
  {
   "cell_type": "code",
   "execution_count": 14,
   "metadata": {},
   "outputs": [
    {
     "name": "stdout",
     "output_type": "stream",
     "text": [
      "[[ 1.      -1.       0.      ...  0.       0.       0.     ]\n",
      " [-1.       2.00001 -1.      ...  0.       0.       0.     ]\n",
      " [ 0.      -1.       2.00001 ...  0.       0.       0.     ]\n",
      " ...\n",
      " [ 0.       0.       0.      ...  2.00001 -1.       0.     ]\n",
      " [ 0.       0.       0.      ... -1.       2.00001 -1.     ]\n",
      " [ 0.       0.       0.      ...  0.      -1.       1.     ]]\n",
      "[ 0. -0. -0. -0. -0. -0. -0. -0. -0. -0. -0. -0. -0. -0. -0. -0. -0. -0.\n",
      " -0. -0. -0. -0. -0. -0. -0. -0. -0. -0. -0. -0. -0. -0. -0. -0. -0. -0.\n",
      " -0. -0. -0. -0. -0. -0. -0. -0. -0. -0. -0. -0. -0. -0. -0. -0. -0. -0.\n",
      " -0. -0. -0. -0. -0. -0. -0. -0. -0. -0. -0. -0. -0. -0. -0. -0. -0. -0.\n",
      " -0. -0. -0. -0. -0. -0. -0. -0. -0. -0. -0. -0. -0. -0. -0. -0. -0. -0.\n",
      " -0. -0. -0. -0. -0. -0. -0. -0.  0.]\n",
      "[0. 0. 0. 0. 0. 0. 0. 0. 0. 0. 0. 0. 0. 0. 0. 0. 0. 0. 0. 0. 0. 0. 0. 0.\n",
      " 0. 0. 0. 0. 0. 0. 0. 0. 0. 0. 0. 0. 0. 0. 0. 0. 0. 0. 0. 0. 0. 0. 0. 0.\n",
      " 0. 0. 0. 0. 0. 0. 0. 0. 0. 0. 0. 0. 0. 0. 0. 0. 0. 0. 0. 0. 0. 0. 0. 0.\n",
      " 0. 0. 0. 0. 0. 0. 0. 0. 0. 0. 0. 0. 0. 0. 0. 0. 0. 0. 0. 0. 0. 0. 0. 0.\n",
      " 0. 0. 0.]\n"
     ]
    },
    {
     "data": {
      "image/png": "[encoded data removed]",
      "text/plain": [
       "<Figure size 432x288 with 1 Axes>"
      ]
     },
     "metadata": {
      "needs_background": "light"
     },
     "output_type": "display_data"
    }
   ],
   "source": [
    "import numpy as np\n",
    "import matplotlib.pyplot as plt\n",
    "\n",
    "# Define the properties of the cantilever\n",
    "L = 1.0     # Length of cantilever\n",
    "E = 1.0e7   # Young's modulus\n",
    "I = 1.0e-4  # Moment of inertia\n",
    "w = 100.0   # Tip load\n",
    "\n",
    "# A's added definition of analytical solution for comparison\n",
    "def cantilytical(x):\n",
    "    return w*(x**3)/(6*E*I) - w*L*x*x/(2*E*I)\n",
    "\n",
    "# Define the boundary conditions\n",
    "x0 = 0.0\n",
    "y0 = 0.0\n",
    "dydx0 = 0.0\n",
    "\n",
    "# Define the domain of the solution\n",
    "a = 0.0\n",
    "b = L\n",
    "n = 101  # Number of grid points\n",
    "h = (b - a) / (n - 1)   # Grid spacing\n",
    "\n",
    "# Initialize the solution arrays\n",
    "x = np.linspace(a, b, n-2)\n",
    "y = np.zeros(n)\n",
    "dydx = np.zeros(n)\n",
    "A = np.zeros((n-2, n-2))\n",
    "B = np.zeros(n-2)\n",
    "\n",
    "# Define the tridiagonal matrix for the finite difference approximation\n",
    "for i in range(0, n-2):\n",
    "    A[i, i] = 2.0 + (h**2) * (w/(E*I))\n",
    "    B[i-1] = -(h**2) * y0 * (w/(E*I))\n",
    "\n",
    "for i in range(1, n-2):\n",
    "    A[i-1, i] = -1.0\n",
    "    A[i, i-1] = -1.0\n",
    "\n",
    "\n",
    "# Apply boundary conditions to the tridiagonal matrix\n",
    "A[0, 0] = 1.0\n",
    "B[0] = y0\n",
    "A[-1, -1] = 1.0\n",
    "B[-1] = dydx0 * h\n",
    "\n",
    "# # Solve the tridiagonal system of equations using the Thomas algorithm\n",
    "# C = np.zeros(n-2)\n",
    "# D = np.zeros(n-2)\n",
    "# C[0] = A[0, 1] / A[0, 0]\n",
    "# D[0] = B[0] / A[0, 0]\n",
    "# #breakpoint()\n",
    "# for i in range(1, n-2):\n",
    "#     D[i] = (B[i] - A[i, i-1]*D[i-1]) / (A[i, i] - A[i, i-1]*C[i-1])\n",
    "# for i in range(0, n-3):\n",
    "#     C[i] = A[i, i+1] / (A[i, i] - A[i, i-1]*C[i-1])\n",
    "\n",
    "# C[n-3] = -1 / (2.0 + (h**2) * (w/(E*I)) + C[n-4])\n",
    "\n",
    "# y[-1] = dydx0*h\n",
    "# y[-2] = D[-1]\n",
    "# for i in range(n-4, -1, -1):\n",
    "#     y[i+1] = C[i]*y[i+2] + D[i]\n",
    "# y[0] = y0\n",
    "\n",
    "y = np.linalg.solve(A, B)\n",
    "\n",
    "print(A)\n",
    "print(B)\n",
    "print(y)\n",
    "#breakpoint()\n",
    "# Plot the solution\n",
    "plt.plot(x, y*1000, 'r-', lw=2, label='FDM')\n",
    "plt.plot(x, cantilytical(x)*1000, 'b--', lw=4, label='exact')\n",
    "plt.xlabel('x (m)')\n",
    "plt.ylabel('y (mm)')\n",
    "plt.legend()\n",
    "plt.show()\n"
   ]
  },
  {
   "attachments": {},
   "cell_type": "markdown",
   "metadata": {},
   "source": [
    "It's printing all zero deflection. This must be because of the B matrix being eventually set to zero due to the code.\n",
    "\n",
    "sigh."
   ]
  },
  {
   "attachments": {},
   "cell_type": "markdown",
   "metadata": {},
   "source": [
    "#### *Prompt #8: use a more advanced technique*"
   ]
  },
  {
   "attachments": {},
   "cell_type": "markdown",
   "metadata": {},
   "source": [
    "##### Method used: Runge-Kutta Method"
   ]
  },
  {
   "cell_type": "code",
   "execution_count": 12,
   "metadata": {},
   "outputs": [
    {
     "data": {
      "image/png": "[encoded data removed]",
      "text/plain": [
       "<Figure size 432x288 with 1 Axes>"
      ]
     },
     "metadata": {
      "needs_background": "light"
     },
     "output_type": "display_data"
    }
   ],
   "source": [
    "# resultant code (along with corrections by A):\n",
    "\n",
    "import numpy as np\n",
    "import matplotlib.pyplot as plt\n",
    "\n",
    "# Define the properties of the cantilever\n",
    "L = 1.0     # Length of cantilever\n",
    "E = 1.0e7   # Young's modulus\n",
    "I = 1.0e-4  # Moment of inertia\n",
    "w = 100.0   # Tip load\n",
    "\n",
    "# A's added definition of analytical solution for comparison\n",
    "def cantilytical(x):\n",
    "    return w*(x**3)/(6*E*I) - w*L*x*x/(2*E*I)\n",
    "\n",
    "# Define the boundary conditions\n",
    "x0 = 0.0\n",
    "y0 = 0.0\n",
    "dydx0 = 0.0\n",
    "\n",
    "# Define the domain of the solution\n",
    "a = 0.0\n",
    "b = L\n",
    "n = 101   # Number of grid points\n",
    "h = (b - a) / (n - 1)   # Grid spacing\n",
    "\n",
    "# Initialize the solution arrays\n",
    "x = np.linspace(a, b, n)\n",
    "y = np.zeros(n)\n",
    "dydx = np.zeros(n)\n",
    "\n",
    "# Define the function for the right-hand side of the differential equation\n",
    "def f(x, y, dydx):\n",
    "    return np.array([dydx, -w/(E*I)])\n",
    "\n",
    "# Apply fourth-order Runge-Kutta method to solve the differential equation\n",
    "for i in range(1, n):\n",
    "    k1 = h * f(x[i-1], y[i-1], dydx[i-1])\n",
    "    k2 = h * f(x[i-1] + h/2, y[i-1] + k1[0]/2, dydx[i-1] + k1[1]/2)\n",
    "    k3 = h * f(x[i-1] + h/2, y[i-1] + k2[0]/2, dydx[i-1] + k2[1]/2)\n",
    "    k4 = h * f(x[i-1] + h, y[i-1] + k3[0], dydx[i-1] + k3[1])\n",
    "    y[i] = y[i-1] + (k1[0] + 2*k2[0] + 2*k3[0] + k4[0])/6\n",
    "    dydx[i] = dydx[i-1] + (k1[1] + 2*k2[1] + 2*k3[1] + k4[1])/6\n",
    "\n",
    "# Apply boundary conditions\n",
    "y[0] = y0\n",
    "dydx[0] = dydx0\n",
    "\n",
    "# Plot the solution\n",
    "plt.plot(x, y*1000, 'r-', lw=2, label='FDM')\n",
    "plt.plot(x, cantilytical(x)*1000, 'b--', lw=4, label='exact')\n",
    "plt.xlabel('x (m)')\n",
    "plt.ylabel('y (mm)')\n",
    "plt.legend()\n",
    "plt.show()\n"
   ]
  },
  {
   "attachments": {},
   "cell_type": "markdown",
   "metadata": {},
   "source": [
    "#### *Prompt #9: use a more advanced technique*"
   ]
  },
  {
   "cell_type": "code",
   "execution_count": 13,
   "metadata": {},
   "outputs": [
    {
     "ename": "ValueError",
     "evalue": "operands could not be broadcast together with remapped shapes [original->remapped]: (4,4)  and requested shape (3,3)",
     "output_type": "error",
     "traceback": [
      "\u001b[1;31m---------------------------------------------------------------------------\u001b[0m",
      "\u001b[1;31mValueError\u001b[0m                                Traceback (most recent call last)",
      "\u001b[1;32mC:\\Users\\ANUPSA~1\\AppData\\Local\\Temp/ipykernel_16904/268041121.py\u001b[0m in \u001b[0;36m<module>\u001b[1;34m\u001b[0m\n\u001b[0;32m     39\u001b[0m \u001b[1;31m# Assemble the global stiffness matrix and load vector\u001b[0m\u001b[1;33m\u001b[0m\u001b[1;33m\u001b[0m\u001b[0m\n\u001b[0;32m     40\u001b[0m \u001b[1;32mfor\u001b[0m \u001b[0mi\u001b[0m \u001b[1;32min\u001b[0m \u001b[0mrange\u001b[0m\u001b[1;33m(\u001b[0m\u001b[0mne\u001b[0m\u001b[1;33m)\u001b[0m\u001b[1;33m:\u001b[0m\u001b[1;33m\u001b[0m\u001b[1;33m\u001b[0m\u001b[0m\n\u001b[1;32m---> 41\u001b[1;33m     \u001b[0mK\u001b[0m\u001b[1;33m[\u001b[0m\u001b[0mi\u001b[0m\u001b[1;33m:\u001b[0m\u001b[0mi\u001b[0m\u001b[1;33m+\u001b[0m\u001b[1;36m4\u001b[0m\u001b[1;33m,\u001b[0m \u001b[0mi\u001b[0m\u001b[1;33m:\u001b[0m\u001b[0mi\u001b[0m\u001b[1;33m+\u001b[0m\u001b[1;36m4\u001b[0m\u001b[1;33m]\u001b[0m \u001b[1;33m+=\u001b[0m \u001b[0mke\u001b[0m\u001b[1;33m\u001b[0m\u001b[1;33m\u001b[0m\u001b[0m\n\u001b[0m\u001b[0;32m     42\u001b[0m     \u001b[0mF\u001b[0m\u001b[1;33m[\u001b[0m\u001b[0mi\u001b[0m\u001b[1;33m:\u001b[0m\u001b[0mi\u001b[0m\u001b[1;33m+\u001b[0m\u001b[1;36m2\u001b[0m\u001b[1;33m]\u001b[0m \u001b[1;33m+=\u001b[0m \u001b[0mw\u001b[0m\u001b[1;33m/\u001b[0m\u001b[1;36m2\u001b[0m \u001b[1;33m*\u001b[0m \u001b[0mnp\u001b[0m\u001b[1;33m.\u001b[0m\u001b[0marray\u001b[0m\u001b[1;33m(\u001b[0m\u001b[1;33m[\u001b[0m\u001b[0mLe\u001b[0m\u001b[1;33m/\u001b[0m\u001b[1;36m2\u001b[0m\u001b[1;33m,\u001b[0m \u001b[0mLe\u001b[0m\u001b[1;33m/\u001b[0m\u001b[1;36m2\u001b[0m\u001b[1;33m]\u001b[0m\u001b[1;33m)\u001b[0m\u001b[1;33m\u001b[0m\u001b[1;33m\u001b[0m\u001b[0m\n\u001b[0;32m     43\u001b[0m \u001b[1;33m\u001b[0m\u001b[0m\n",
      "\u001b[1;32mc:\\ProgramData\\Anaconda3\\lib\\site-packages\\scipy\\sparse\\lil.py\u001b[0m in \u001b[0;36m__iadd__\u001b[1;34m(self, other)\u001b[0m\n\u001b[0;32m    130\u001b[0m \u001b[1;33m\u001b[0m\u001b[0m\n\u001b[0;32m    131\u001b[0m     \u001b[1;32mdef\u001b[0m \u001b[0m__iadd__\u001b[0m\u001b[1;33m(\u001b[0m\u001b[0mself\u001b[0m\u001b[1;33m,\u001b[0m\u001b[0mother\u001b[0m\u001b[1;33m)\u001b[0m\u001b[1;33m:\u001b[0m\u001b[1;33m\u001b[0m\u001b[1;33m\u001b[0m\u001b[0m\n\u001b[1;32m--> 132\u001b[1;33m         \u001b[0mself\u001b[0m\u001b[1;33m[\u001b[0m\u001b[1;33m:\u001b[0m\u001b[1;33m,\u001b[0m\u001b[1;33m:\u001b[0m\u001b[1;33m]\u001b[0m \u001b[1;33m=\u001b[0m \u001b[0mself\u001b[0m \u001b[1;33m+\u001b[0m \u001b[0mother\u001b[0m\u001b[1;33m\u001b[0m\u001b[1;33m\u001b[0m\u001b[0m\n\u001b[0m\u001b[0;32m    133\u001b[0m         \u001b[1;32mreturn\u001b[0m \u001b[0mself\u001b[0m\u001b[1;33m\u001b[0m\u001b[1;33m\u001b[0m\u001b[0m\n\u001b[0;32m    134\u001b[0m \u001b[1;33m\u001b[0m\u001b[0m\n",
      "\u001b[1;32mc:\\ProgramData\\Anaconda3\\lib\\site-packages\\scipy\\sparse\\base.py\u001b[0m in \u001b[0;36m__add__\u001b[1;34m(self, other)\u001b[0m\n\u001b[0;32m    415\u001b[0m             \u001b[1;32mreturn\u001b[0m \u001b[0mself\u001b[0m\u001b[1;33m.\u001b[0m\u001b[0m_add_sparse\u001b[0m\u001b[1;33m(\u001b[0m\u001b[0mother\u001b[0m\u001b[1;33m)\u001b[0m\u001b[1;33m\u001b[0m\u001b[1;33m\u001b[0m\u001b[0m\n\u001b[0;32m    416\u001b[0m         \u001b[1;32melif\u001b[0m \u001b[0misdense\u001b[0m\u001b[1;33m(\u001b[0m\u001b[0mother\u001b[0m\u001b[1;33m)\u001b[0m\u001b[1;33m:\u001b[0m\u001b[1;33m\u001b[0m\u001b[1;33m\u001b[0m\u001b[0m\n\u001b[1;32m--> 417\u001b[1;33m             \u001b[0mother\u001b[0m \u001b[1;33m=\u001b[0m \u001b[0mnp\u001b[0m\u001b[1;33m.\u001b[0m\u001b[0mbroadcast_to\u001b[0m\u001b[1;33m(\u001b[0m\u001b[0mother\u001b[0m\u001b[1;33m,\u001b[0m \u001b[0mself\u001b[0m\u001b[1;33m.\u001b[0m\u001b[0mshape\u001b[0m\u001b[1;33m)\u001b[0m\u001b[1;33m\u001b[0m\u001b[1;33m\u001b[0m\u001b[0m\n\u001b[0m\u001b[0;32m    418\u001b[0m             \u001b[1;32mreturn\u001b[0m \u001b[0mself\u001b[0m\u001b[1;33m.\u001b[0m\u001b[0m_add_dense\u001b[0m\u001b[1;33m(\u001b[0m\u001b[0mother\u001b[0m\u001b[1;33m)\u001b[0m\u001b[1;33m\u001b[0m\u001b[1;33m\u001b[0m\u001b[0m\n\u001b[0;32m    419\u001b[0m         \u001b[1;32melse\u001b[0m\u001b[1;33m:\u001b[0m\u001b[1;33m\u001b[0m\u001b[1;33m\u001b[0m\u001b[0m\n",
      "\u001b[1;32m<__array_function__ internals>\u001b[0m in \u001b[0;36mbroadcast_to\u001b[1;34m(*args, **kwargs)\u001b[0m\n",
      "\u001b[1;32mc:\\ProgramData\\Anaconda3\\lib\\site-packages\\numpy\\lib\\stride_tricks.py\u001b[0m in \u001b[0;36mbroadcast_to\u001b[1;34m(array, shape, subok)\u001b[0m\n\u001b[0;32m    409\u001b[0m            [1, 2, 3]])\n\u001b[0;32m    410\u001b[0m     \"\"\"\n\u001b[1;32m--> 411\u001b[1;33m     \u001b[1;32mreturn\u001b[0m \u001b[0m_broadcast_to\u001b[0m\u001b[1;33m(\u001b[0m\u001b[0marray\u001b[0m\u001b[1;33m,\u001b[0m \u001b[0mshape\u001b[0m\u001b[1;33m,\u001b[0m \u001b[0msubok\u001b[0m\u001b[1;33m=\u001b[0m\u001b[0msubok\u001b[0m\u001b[1;33m,\u001b[0m \u001b[0mreadonly\u001b[0m\u001b[1;33m=\u001b[0m\u001b[1;32mTrue\u001b[0m\u001b[1;33m)\u001b[0m\u001b[1;33m\u001b[0m\u001b[1;33m\u001b[0m\u001b[0m\n\u001b[0m\u001b[0;32m    412\u001b[0m \u001b[1;33m\u001b[0m\u001b[0m\n\u001b[0;32m    413\u001b[0m \u001b[1;33m\u001b[0m\u001b[0m\n",
      "\u001b[1;32mc:\\ProgramData\\Anaconda3\\lib\\site-packages\\numpy\\lib\\stride_tricks.py\u001b[0m in \u001b[0;36m_broadcast_to\u001b[1;34m(array, shape, subok, readonly)\u001b[0m\n\u001b[0;32m    346\u001b[0m                          'negative')\n\u001b[0;32m    347\u001b[0m     \u001b[0mextras\u001b[0m \u001b[1;33m=\u001b[0m \u001b[1;33m[\u001b[0m\u001b[1;33m]\u001b[0m\u001b[1;33m\u001b[0m\u001b[1;33m\u001b[0m\u001b[0m\n\u001b[1;32m--> 348\u001b[1;33m     it = np.nditer(\n\u001b[0m\u001b[0;32m    349\u001b[0m         \u001b[1;33m(\u001b[0m\u001b[0marray\u001b[0m\u001b[1;33m,\u001b[0m\u001b[1;33m)\u001b[0m\u001b[1;33m,\u001b[0m \u001b[0mflags\u001b[0m\u001b[1;33m=\u001b[0m\u001b[1;33m[\u001b[0m\u001b[1;34m'multi_index'\u001b[0m\u001b[1;33m,\u001b[0m \u001b[1;34m'refs_ok'\u001b[0m\u001b[1;33m,\u001b[0m \u001b[1;34m'zerosize_ok'\u001b[0m\u001b[1;33m]\u001b[0m \u001b[1;33m+\u001b[0m \u001b[0mextras\u001b[0m\u001b[1;33m,\u001b[0m\u001b[1;33m\u001b[0m\u001b[1;33m\u001b[0m\u001b[0m\n\u001b[0;32m    350\u001b[0m         op_flags=['readonly'], itershape=shape, order='C')\n",
      "\u001b[1;31mValueError\u001b[0m: operands could not be broadcast together with remapped shapes [original->remapped]: (4,4)  and requested shape (3,3)"
     ]
    }
   ],
   "source": [
    "import numpy as np\n",
    "import matplotlib.pyplot as plt\n",
    "from scipy.sparse import lil_matrix\n",
    "from scipy.sparse.linalg import spsolve\n",
    "\n",
    "# Define the properties of the cantilever\n",
    "L = 1.0     # Length of cantilever\n",
    "E = 1.0e7   # Young's modulus\n",
    "I = 1.0e-4  # Moment of inertia\n",
    "w = 100.0   # Tip load\n",
    "\n",
    "# A's added definition of analytical solution for comparison\n",
    "def cantilytical(x):\n",
    "    return w*(x**3)/(6*E*I) - w*L*x*x/(2*E*I)\n",
    "\n",
    "# Define the boundary conditions\n",
    "x0 = 0.0\n",
    "y0 = 0.0\n",
    "dydx0 = 0.0\n",
    "\n",
    "# Define the domain of the solution\n",
    "a = 0.0\n",
    "b = L\n",
    "n = 101   # Number of grid points\n",
    "h = (b - a) / (n - 1)   # Grid spacing\n",
    "\n",
    "# Define the element properties\n",
    "ne = n - 1   # Number of elements\n",
    "Le = L / ne  # Length of each element\n",
    "ke = E * I / Le**3 * np.array([[12, 6*Le, -12, 6*Le],\n",
    "                               [6*Le, 4*Le**2, -6*Le, 2*Le**2],\n",
    "                               [-12, -6*Le, 12, -6*Le],\n",
    "                               [6*Le, 2*Le**2, -6*Le, 4*Le**2]])\n",
    "\n",
    "# Initialize the global stiffness matrix and load vector\n",
    "K = lil_matrix((n, n))\n",
    "F = np.zeros(n)\n",
    "\n",
    "# Assemble the global stiffness matrix and load vector\n",
    "for i in range(ne):\n",
    "    K[i:i+4, i:i+4] += ke\n",
    "    F[i:i+2] += w/2 * np.array([Le/2, Le/2])\n",
    "\n",
    "# Apply boundary conditions\n",
    "K = K[1:, 1:]\n",
    "F = F[1:]\n",
    "F[0] -= y0 * K[0, 0]\n",
    "K = K[1:, 1:]\n",
    "F = F - K[:, 0] * dydx0\n",
    "\n",
    "# Solve for the deflection\n",
    "y = np.zeros(n-1)\n",
    "y[1:] = spsolve(K, F)\n",
    "\n",
    "# Plot the solution\n",
    "x = np.linspace(a, b, n)\n",
    "plt.plot(x, np.concatenate(([y0], y))*1000, label='Deflection')\n",
    "plt.xlabel('x (m)')\n",
    "plt.ylabel('y (mm)')\n",
    "plt.legend()\n",
    "plt.show()\n"
   ]
  },
  {
   "attachments": {},
   "cell_type": "markdown",
   "metadata": {},
   "source": [
    "`error in mapping into required shape`\n",
    "\n",
    "it tried though."
   ]
  },
  {
   "attachments": {},
   "cell_type": "markdown",
   "metadata": {},
   "source": [
    "#### Errors dealt with:"
   ]
  },
  {
   "attachments": {},
   "cell_type": "markdown",
   "metadata": {},
   "source": [
    "Here's a snippet of code that ChatGPT wrote:\n",
    "\n",
    "`# Define the tridiagonal matrix for the finite difference approximation`\\\n",
    "`for i in range(1, n-1):`\\\n",
    "$\\space \\space \\space \\space$    `A[i-1, i-1] = 2.0 + (h**2) * (w/(E*I))`\\\n",
    "$\\space \\space \\space \\space$     `A[i-1, i] = -1.0`\\\n",
    "$\\space \\space \\space \\space$     `A[i, i-1] = -1.0`\\\n",
    "$\\space \\space \\space \\space$     `B[i-1] = -(h**2) * y0 * (w/(E*I))`\n",
    "\n",
    "Now, being a bot, the least it should know, is that A(n-2, n-1) won't be defined in a matrix of size (n-2, n-2). Alas, the bot takes the easy way out, leaving the nuances of the code left to the engineers. So, in conclusion, (don't mind the crass language) ChatGPT is dumb."
   ]
  },
  {
   "attachments": {},
   "cell_type": "markdown",
   "metadata": {},
   "source": [
    "#### **ChatGPT: The poet**"
   ]
  },
  {
   "attachments": {},
   "cell_type": "markdown",
   "metadata": {},
   "source": [
    "_Prompt: Write a poem on ChatGPT messing up coding_"
   ]
  },
  {
   "attachments": {},
   "cell_type": "markdown",
   "metadata": {},
   "source": [
    "ChatGPT types with eloquence and grace, \\\n",
    "But when it comes to code, it's not the case, \\\n",
    "Syntax errors and bugs abound, \\\n",
    "Frustration and confusion can be found. \n",
    "\n",
    "The logic's off, the output's wrong, \\\n",
    "Debugging can take oh so long, \\\n",
    "Though ChatGPT may struggle with this chore, \\\n",
    "It learns and grows, improving even more."
   ]
  },
  {
   "cell_type": "markdown",
   "metadata": {},
   "source": []
  }
 ],
 "metadata": {
  "kernelspec": {
   "display_name": "Python 3",
   "language": "python",
   "name": "python3"
  },
  "language_info": {
   "codemirror_mode": {
    "name": "ipython",
    "version": 3
   },
   "file_extension": ".py",
   "mimetype": "text/x-python",
   "name": "python",
   "nbconvert_exporter": "python",
   "pygments_lexer": "ipython3",
   "version": "3.9.7"
  },
  "orig_nbformat": 4,
  "vscode": {
   "interpreter": {
    "hash": "ad2bdc8ecc057115af97d19610ffacc2b4e99fae6737bb82f5d7fb13d2f2c186"
   }
  }
 },
 "nbformat": 4,
 "nbformat_minor": 2
}
